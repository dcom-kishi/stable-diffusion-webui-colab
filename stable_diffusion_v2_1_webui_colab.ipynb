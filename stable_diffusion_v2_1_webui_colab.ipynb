{
  "nbformat": 4,
  "nbformat_minor": 0,
  "metadata": {
    "colab": {
      "provenance": [],
      "authorship_tag": "ABX9TyMc81GHVYGB4dFH/bjqabhO",
      "include_colab_link": true
    },
    "kernelspec": {
      "name": "python3",
      "display_name": "Python 3"
    },
    "language_info": {
      "name": "python"
    },
    "gpuClass": "standard",
    "accelerator": "GPU"
  },
  "cells": [
    {
      "cell_type": "markdown",
      "metadata": {
        "id": "view-in-github",
        "colab_type": "text"
      },
      "source": [
        "<a href=\"https://colab.research.google.com/github/dcom-kishi/stable-diffusion-webui-colab/blob/main/stable_diffusion_v2_1_webui_colab.ipynb\" target=\"_parent\"><img src=\"https://colab.research.google.com/assets/colab-badge.svg\" alt=\"Open In Colab\"/></a>"
      ]
    },
    {
      "cell_type": "code",
      "execution_count": null,
      "metadata": {
        "id": "taHTJmMGX14w"
      },
      "outputs": [],
      "source": [
        "# setup stable diffusion web ui\n",
        "!pip install -q https://github.com/camenduru/stable-diffusion-webui-colab/releases/download/0.0.15/xformers-0.0.15.dev0+189828c.d20221207-cp38-cp38-linux_x86_64.whl\n",
        "!git clone https://github.com/camenduru/stable-diffusion-webui\n",
        "!git clone https://github.com/deforum-art/deforum-for-automatic1111-webui /content/stable-diffusion-webui/extensions/deforum-for-automatic1111-webui\n",
        "!git clone https://github.com/yfszzx/stable-diffusion-webui-images-browser /content/stable-diffusion-webui/extensions/stable-diffusion-webui-images-browser\n",
        "!git clone https://github.com/camenduru/stable-diffusion-webui-huggingface /content/stable-diffusion-webui/extensions/stable-diffusion-webui-huggingface\n",
        "\n",
        "# get stable diffusion models\n",
        "!wget https://raw.githubusercontent.com/Stability-AI/stablediffusion/main/configs/stable-diffusion/v2-inference.yaml -O /content/stable-diffusion-webui/models/Stable-diffusion/v2-1_512-ema-pruned.yaml\n",
        "!wget https://huggingface.co/stabilityai/stable-diffusion-2-1-base/resolve/main/v2-1_512-ema-pruned.ckpt -O /content/stable-diffusion-webui/models/Stable-diffusion/v2-1_512-ema-pruned.ckpt\n",
        "\n",
        "# setup javascript\n",
        "!npm install -g npm\n",
        "!npm install ijavascript localtunnel -g --unsafe-perm\n",
        "!ijsinstall\n",
        "\n",
        "# start stable diffusion web ui\n",
        "%cd /content/stable-diffusion-webui\n",
        "!python launch.py --xformers --nowebui & sleep 300 && npx localtunnel --subdomain stable-diffusion-web-ui-v21 --port 7860"
      ]
    }
  ]
}